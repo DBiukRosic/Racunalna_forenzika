{
 "cells": [
  {
   "cell_type": "markdown",
   "metadata": {},
   "source": [
    "## Vjezba 1\n"
   ]
  },
  {
   "cell_type": "code",
   "execution_count": 1,
   "metadata": {},
   "outputs": [
    {
     "name": "stdout",
     "output_type": "stream",
     "text": [
      "   file_name\n",
      "0      file1\n",
      "1  file2.txt\n",
      "2      file3\n"
     ]
    }
   ],
   "source": [
    "import os\n",
    "import pandas as pd\n",
    "\n",
    "# specify the directory path where the files are located\n",
    "dir_path = 'Lab2'\n",
    "\n",
    "# create an empty list to store the file names\n",
    "file_names = []\n",
    "\n",
    "# iterate through all files in the directory\n",
    "for file in os.listdir(dir_path):\n",
    "    # check if the file is a regular file (i.e., not a directory)\n",
    "    if os.path.isfile(os.path.join(dir_path, file)):\n",
    "        # if so, add the file name to the list\n",
    "        file_names.append(file)\n",
    "\n",
    "# create a Pandas dataframe with the file names\n",
    "df = pd.DataFrame({'file_name': file_names})\n",
    "\n",
    "# print the dataframe\n",
    "print(df)"
   ]
  },
  {
   "cell_type": "markdown",
   "metadata": {},
   "source": [
    "## Vjezba 2\n"
   ]
  },
  {
   "cell_type": "code",
   "execution_count": 9,
   "metadata": {},
   "outputs": [
    {
     "name": "stdout",
     "output_type": "stream",
     "text": [
      "    file_name extensions\n",
      "0  Lab2\\file1           \n",
      "1  Lab2\\file2       .txt\n",
      "2  Lab2\\file3           \n"
     ]
    }
   ],
   "source": [
    "import os\n",
    "import pandas as pd\n",
    "\n",
    "# specify the directory path where the files are located\n",
    "dir_path = 'Lab2'\n",
    "\n",
    "# create an empty list to store the file names\n",
    "file_names = []\n",
    "extensions = []\n",
    "\n",
    "# iterate through all files in the directory\n",
    "for file in os.listdir(dir_path):\n",
    "    # check if the file is a regular file (i.e., not a directory)\n",
    "    path = os.path.join(dir_path, file) \n",
    "    if os.path.isfile(os.path.join(dir_path, file)):\n",
    "        # if so, add the file name to the list\n",
    "        full_file = os.path.splitext(path)\n",
    "        file_names.append(full_file[0])\n",
    "        extensions.append(full_file[1])        \n",
    "\n",
    "# create a Pandas dataframe with the file names\n",
    "df = pd.DataFrame({'file_name': file_names, 'extensions':extensions})\n",
    "\n",
    "# print the dataframe\n",
    "print(df)"
   ]
  },
  {
   "cell_type": "markdown",
   "metadata": {},
   "source": [
    "## Vjezba 3"
   ]
  },
  {
   "cell_type": "code",
   "execution_count": 10,
   "metadata": {},
   "outputs": [
    {
     "name": "stdout",
     "output_type": "stream",
     "text": [
      "    file_name extensions                               md5  \\\n",
      "0  Lab2\\file1             f1b5c93cdf5be24404bf7616ab85ca2b   \n",
      "1  Lab2\\file2       .txt  1a32355ead4bc1a71f7597e07adada5a   \n",
      "2  Lab2\\file3             d3e83f05578eb58701d4293ac9df25ec   \n",
      "\n",
      "                                       sha1  \\\n",
      "0  3a029fa12c929e4efd70b8ce90e8d1946ce4092e   \n",
      "1  6ca90d4163424b959d6d12616dfa8ee6d6213071   \n",
      "2  5d23c6d0e935e877ef1856c35628cd48a0948f58   \n",
      "\n",
      "                                              sha256  \n",
      "0  c0e085881b6127f10966db379621ae2973b0084594fdd3...  \n",
      "1  ee17e61b56ef3a42534e474ceabdfe22cc9c034c4be6cc...  \n",
      "2  fd9eeca35f2fc9cc70859221429c786d4e7f30dc601dcd...  \n"
     ]
    }
   ],
   "source": [
    "import os\n",
    "import pandas as pd\n",
    "import hashlib\n",
    "\n",
    "def file2hash(filename, hash_function):\n",
    "    with open (filename, 'rb', buffering=0) as f:\n",
    "        return hash_function(f.read()).hexdigest()\n",
    "\n",
    "# specify the directory path where the files are located\n",
    "dir_path = 'Lab2'\n",
    "\n",
    "# create an empty list to store the file names\n",
    "file_names = []\n",
    "extensions = []\n",
    "md5s = []\n",
    "sha1s = []\n",
    "sha256s = []\n",
    "\n",
    "# iterate through all files in the directory\n",
    "for file in os.listdir(dir_path):\n",
    "    # check if the file is a regular file (i.e., not a directory)\n",
    "    path = os.path.join(dir_path, file) \n",
    "    if os.path.isfile(os.path.join(dir_path, file)):\n",
    "        # if so, add the file name to the list\n",
    "        full_file = os.path.splitext(path)\n",
    "        file_names.append(full_file[0])\n",
    "        extensions.append(full_file[1])\n",
    "        md5s.append(file2hash(path, hashlib.md5))\n",
    "        sha1s.append(file2hash(path, hashlib.sha1))\n",
    "        sha256s.append(file2hash(path, hashlib.sha256))\n",
    "\n",
    "\n",
    "# create a Pandas dataframe with the file names\n",
    "df = pd.DataFrame({'file_name': file_names, 'extensions':extensions, 'md5':md5s, 'sha1' : sha1s, 'sha256' : sha256s})\n",
    "\n",
    "# print the dataframe\n",
    "print(df)"
   ]
  },
  {
   "cell_type": "markdown",
   "metadata": {},
   "source": [
    "## Vjezba 4\n"
   ]
  },
  {
   "cell_type": "code",
   "execution_count": 22,
   "metadata": {},
   "outputs": [
    {
     "name": "stdout",
     "output_type": "stream",
     "text": [
      "    file_name extensions                               md5  \\\n",
      "0  Lab2\\file1             f1b5c93cdf5be24404bf7616ab85ca2b   \n",
      "1  Lab2\\file2       .txt  1a32355ead4bc1a71f7597e07adada5a   \n",
      "2  Lab2\\file3             d3e83f05578eb58701d4293ac9df25ec   \n",
      "\n",
      "                                       sha1  \\\n",
      "0  3a029fa12c929e4efd70b8ce90e8d1946ce4092e   \n",
      "1  6ca90d4163424b959d6d12616dfa8ee6d6213071   \n",
      "2  5d23c6d0e935e877ef1856c35628cd48a0948f58   \n",
      "\n",
      "                                              sha256  \\\n",
      "0  c0e085881b6127f10966db379621ae2973b0084594fdd3...   \n",
      "1  ee17e61b56ef3a42534e474ceabdfe22cc9c034c4be6cc...   \n",
      "2  fd9eeca35f2fc9cc70859221429c786d4e7f30dc601dcd...   \n",
      "\n",
      "                                        magic_number original_extension  \\\n",
      "0  application/vnd.openxmlformats-officedocument....              .docx   \n",
      "1                                         text/plain               .txt   \n",
      "2                                    application/pdf               .pdf   \n",
      "\n",
      "   extension_match  \n",
      "0            False  \n",
      "1             True  \n",
      "2            False  \n"
     ]
    }
   ],
   "source": [
    "import os\n",
    "import pandas as pd\n",
    "import hashlib\n",
    "import magic\n",
    "import mimetypes\n",
    "\n",
    "def file2hash(filename, hash_function):\n",
    "    with open (filename, 'rb', buffering=0) as f:\n",
    "        return hash_function(f.read()).hexdigest()\n",
    "\n",
    "# specify the directory path where the files are located\n",
    "dir_path = 'Lab2'\n",
    "\n",
    "# create an empty list to store the file names\n",
    "file_names = []\n",
    "extensions = []\n",
    "md5s = []\n",
    "sha1s = []\n",
    "sha256s = []\n",
    "magic_numbers = []\n",
    "extension_matches = []\n",
    "original_extensions = []\n",
    "\n",
    "f = magic.Magic(mime=True)\n",
    "# iterate through all files in the directory\n",
    "for file in os.listdir(dir_path):\n",
    "    # check if the file is a regular file (i.e., not a directory)\n",
    "    path = os.path.join(dir_path, file) \n",
    "    if os.path.isfile(os.path.join(dir_path, file)):\n",
    "        # if so, add the file name to the list\n",
    "        \n",
    "        full_file = os.path.splitext(path)\n",
    "        file_names.append(full_file[0])\n",
    "        extensions.append(full_file[1])\n",
    "        md5s.append(file2hash(path, hashlib.md5))\n",
    "        sha1s.append(file2hash(path, hashlib.sha1))\n",
    "        sha256s.append(file2hash(path, hashlib.sha256))\n",
    "\n",
    "        magic_number = f.from_file(path)\n",
    "        magic_numbers.append(magic_number)\n",
    "        original_extensions.append(mimetypes.guess_all_extensions(magic_number.lower())[0])\n",
    "\n",
    "        if full_file[1].lower() == '':\n",
    "            extension_matches.append(False)\n",
    "        elif mimetypes.guess_type('test'+full_file[1].lower())[0] in magic_number.lower():\n",
    "            extension_matches.append(True)\n",
    "        else:\n",
    "            extension_matches.append(False)\n",
    "\n",
    "\n",
    "# create a Pandas dataframe with the file names\n",
    "df = pd.DataFrame({'file_name': file_names, 'extensions':extensions, 'md5':md5s, 'sha1' : sha1s, 'sha256' : sha256s, 'magic_number' : magic_numbers, 'original_extension': original_extensions, 'extension_match': extension_matches})\n",
    "\n",
    "\n",
    "# print the dataframe\n",
    "print(df)"
   ]
  },
  {
   "cell_type": "markdown",
   "metadata": {},
   "source": [
    "## Vjezba 6\n"
   ]
  },
  {
   "cell_type": "code",
   "execution_count": null,
   "metadata": {},
   "outputs": [],
   "source": [
    "import os\n",
    "import pandas as pd\n",
    "import hashlib\n",
    "import magic\n",
    "import mimetypes\n",
    "\n",
    "def file2hash(filename, hash_function):\n",
    "    with open (filename, 'rb', buffering=0) as f:\n",
    "        return hash_function(f.read()).hexdigest()\n",
    "\n",
    "# specify the directory path where the files are located\n",
    "dir_path = 'Lab2'\n",
    "\n",
    "# create an empty list to store the file names\n",
    "file_names = []\n",
    "extensions = []\n",
    "md5s = []\n",
    "sha1s = []\n",
    "sha256s = []\n",
    "magic_numbers = []\n",
    "extension_matches = []\n",
    "original_extensions = []\n",
    "\n",
    "f = magic.Magic(mime=True)\n",
    "# iterate through all files in the directory\n",
    "for file in os.listdir(dir_path):\n",
    "    # check if the file is a regular file (i.e., not a directory)\n",
    "    path = os.path.join(dir_path, file) \n",
    "    if os.path.isfile(os.path.join(dir_path, file)):\n",
    "        # if so, add the file name to the list\n",
    "        \n",
    "        full_file = os.path.splitext(path)\n",
    "        file_names.append(full_file[0])\n",
    "        extensions.append(full_file[1])\n",
    "        md5s.append(file2hash(path, hashlib.md5))\n",
    "        sha1s.append(file2hash(path, hashlib.sha1))\n",
    "        sha256s.append(file2hash(path, hashlib.sha256))\n",
    "\n",
    "        magic_number = f.from_file(path)\n",
    "        magic_numbers.append(magic_number)\n",
    "        original_extensions.append(mimetypes.guess_all_extensions(magic_number.lower())[0])\n",
    "\n",
    "        if full_file[1].lower() == '':\n",
    "            extension_matches.append(False)\n",
    "        elif mimetypes.guess_type('test'+full_file[1].lower())[0] in magic_number.lower():\n",
    "            extension_matches.append(True)\n",
    "        else:\n",
    "            extension_matches.append(False)\n",
    "\n",
    "\n",
    "# create a Pandas dataframe with the file names\n",
    "df = pd.DataFrame({'file_name': file_names, 'extensions':extensions, 'md5':md5s, 'sha1' : sha1s, 'sha256' : sha256s, 'magic_number' : magic_numbers, 'original_extension': original_extensions, 'extension_match': extension_matches})\n",
    "\n",
    "\n",
    "# print the dataframe\n",
    "print(df)"
   ]
  }
 ],
 "metadata": {
  "kernelspec": {
   "display_name": "Python 3.11.2 ('racunalna_forenzika': venv)",
   "language": "python",
   "name": "python3"
  },
  "language_info": {
   "codemirror_mode": {
    "name": "ipython",
    "version": 3
   },
   "file_extension": ".py",
   "mimetype": "text/x-python",
   "name": "python",
   "nbconvert_exporter": "python",
   "pygments_lexer": "ipython3",
   "version": "3.11.2"
  },
  "orig_nbformat": 4,
  "vscode": {
   "interpreter": {
    "hash": "be50c4d7bfad7014ab033eaaf2a6ff921914f60022c0250d12b5175226a9ff7a"
   }
  }
 },
 "nbformat": 4,
 "nbformat_minor": 2
}
