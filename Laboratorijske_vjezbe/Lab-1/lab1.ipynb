{
 "cells": [
  {
   "cell_type": "code",
   "execution_count": 1,
   "metadata": {},
   "outputs": [
    {
     "name": "stdout",
     "output_type": "stream",
     "text": [
      "File downloaded successfully.\n"
     ]
    }
   ],
   "source": [
    "import requests\n",
    "def download_file_with_custom_headers(url, local_filename):\n",
    "    headers = {\n",
    "        'User-Agent': 'Mozilla/5.0 (Windows NT 10.0; Win64; x64) AppleWebKit/537.36 (KHTML, like Gecko) Chrome/58.0.3029.110 Safari/537.3'\n",
    "    }\n",
    "    \n",
    "    with requests.get(url, headers=headers, stream=True) as r:\n",
    "        r.raise_for_status()  # This will throw an exception for non-200 responses\n",
    "        with open(local_filename, 'wb') as f:\n",
    "            for chunk in r.iter_content(chunk_size=8192): \n",
    "                f.write(chunk)\n",
    "    print(\"File downloaded successfully.\")\n",
    "\n",
    "\n",
    "# Example usage\n",
    "file_url = 'https://fesb-my.sharepoint.com/:u:/g/personal/toperkov_fesb_hr/ERP3tpm9FRRIkk82lCHbQpIBGu-9efbxohQv6dZ6g2B2AQ?download=1'\n",
    "output_dir = './imageFESB.001'\n",
    "download_file_with_custom_headers(file_url, output_dir)"
   ]
  },
  {
   "cell_type": "markdown",
   "metadata": {},
   "source": [
    "## Izračun Hash vrijednosti kopije USB-a\n",
    "Provjera odgovara li SHA1 hash vrijednost kopije USB-a onoj koju smo dobili.\n"
   ]
  },
  {
   "cell_type": "code",
   "execution_count": 1,
   "metadata": {},
   "outputs": [
    {
     "name": "stdout",
     "output_type": "stream",
     "text": [
      "Bitstream image verified successfully.\n"
     ]
    },
    {
     "data": {
      "text/plain": [
       "True"
      ]
     },
     "execution_count": 1,
     "metadata": {},
     "output_type": "execute_result"
    }
   ],
   "source": [
    "import hashlib\n",
    "\n",
    "def verify_image_hash(image_path, given_hash):\n",
    "    \"\"\"\n",
    "    Verifies the integrity of an image file by comparing its SHA-1 hash against a given hash.\n",
    "\n",
    "    Parameters:\n",
    "    - image_path (str): The file path to the image whose integrity is being verified.\n",
    "    - given_hash (str): The expected SHA-1 hash value for the image file.\n",
    "\n",
    "    Returns:\n",
    "    - bool: True if the image's SHA-1 hash matches the given hash, False otherwise.\n",
    "    \"\"\"\n",
    "    try:\n",
    "        # Compute the SHA-1 hash of the image file\n",
    "        with open(image_path, 'rb') as f:\n",
    "            computed_hash = hashlib.sha1(f.read()).hexdigest()\n",
    "\n",
    "        # Compare the computed hash with the given hash\n",
    "        if computed_hash == given_hash:\n",
    "            print('Bitstream image verified successfully.')\n",
    "            return True\n",
    "        else:\n",
    "            print('Error: Bitstream image verification failed.')\n",
    "            return False\n",
    "    except IOError as e:\n",
    "        print(f\"Error opening file: {e}\")\n",
    "        return False\n",
    "    except Exception as e:\n",
    "        print(f\"An unexpected error occurred: {e}\")\n",
    "        return False\n",
    "\n",
    "# Example usage\n",
    "image_path = 'imageFESB.001'\n",
    "given_hash = \"201cdee056cfc8c0996328e3c2115b513a141f5c\"\n",
    "verify_image_hash(image_path, given_hash)"
   ]
  },
  {
   "cell_type": "markdown",
   "metadata": {},
   "source": [
    "## Izvlačenje hash vrijednosti - John the Ripper\n",
    "Na računalu je sačuvana sigurnosna kopija USB-a koji je enkriptiran BitLockerom. Preuzimamo alat John the Ripper."
   ]
  },
  {
   "cell_type": "code",
   "execution_count": 14,
   "metadata": {},
   "outputs": [
    {
     "name": "stdout",
     "output_type": "stream",
     "text": [
      "Directory 'john-1.9.0-jumbo-1-win64' created or already exists.\n"
     ]
    }
   ],
   "source": [
    "from pyunpack import Archive\n",
    "import os\n",
    "\n",
    "def create_directory(directory_path):\n",
    "    try:\n",
    "        os.makedirs(directory_path, exist_ok=True)\n",
    "        print(f\"Directory '{directory_path}' created or already exists.\")\n",
    "    except Exception as e:\n",
    "        print(f\"Failed to create directory '{directory_path}': {e}\")\n",
    "\n",
    "# Example usage\n",
    "directory_path = 'john-1.9.0-jumbo-1-win64'\n",
    "create_directory(directory_path)\n",
    "\n",
    "Archive('john-1.9.0-jumbo-1-win64.zip').extractall(\"john-1.9.0-jumbo-1-win64\")"
   ]
  },
  {
   "cell_type": "markdown",
   "metadata": {},
   "source": [
    "Izvlačenje hash-a korištenjem bitlocker2john alata.\n"
   ]
  },
  {
   "cell_type": "code",
   "execution_count": 2,
   "metadata": {},
   "outputs": [
    {
     "name": "stdout",
     "output_type": "stream",
     "text": [
      "BitLocker recovery key: $bitlocker$1$16$f64d2073dea16d4bf96c9e4622f4b08e$1048576$12$402ff33f651ad70103000000$60$265c4b1591ba8b3c7e8f6401657479ba7cc05caba44cdfe1d25a10c0099617698226aa2f9ca826fb074ce7ad9738be9bbc95a6b516527d2632af7d6f\n"
     ]
    }
   ],
   "source": [
    "import socket\n",
    "import subprocess\n",
    "\n",
    "# Set the path to the USB image file\n",
    "image_path = 'imageFESB.001'\n",
    "\n",
    "# Call bitlocker2john to extract the recovery key\n",
    "bitlocker2john_cmd = f'C:\\\\Users\\\\A507\\\\DBiukRosic\\\\john-1.9.0-jumbo-1-win64\\\\john-1.9.0-jumbo-1-win64\\\\run\\\\bitlocker2john -i {image_path}'\n",
    "process = subprocess.Popen(bitlocker2john_cmd, stdout=subprocess.PIPE, stderr=subprocess.PIPE, shell=True)\n",
    "output, error = process.communicate()\n",
    "\n",
    "# Print the extracted recovery key\n",
    "keys = output.decode().strip().split('\\n')\n",
    "recovery_key = [s for s in keys if \"$bitlocker$1$\" in s]\n",
    "print(f'BitLocker recovery key: {recovery_key[0]}')"
   ]
  },
  {
   "cell_type": "code",
   "execution_count": 5,
   "metadata": {},
   "outputs": [
    {
     "name": "stdout",
     "output_type": "stream",
     "text": [
      "hashcat (v6.2.6) starting\n",
      "\n",
      "OpenCL API (OpenCL 2.0 AMD-APP (2117.13)) - Platform #1 [Advanced Micro Devices, Inc.]\n",
      "======================================================================================\n",
      "* Device #1: AMD Radeon(TM) R7 M440, 3968/4096 MB (2880 MB allocatable), 6MCU\n",
      "* Device #2: , skipped\n",
      "\n",
      "OpenCL API (OpenCL 2.1 ) - Platform #2 [Intel(R) Corporation]\n",
      "=============================================================\n",
      "* Device #3: Intel(R) HD Graphics 620, 2368/4856 MB (1023 MB allocatable), 24MCU\n",
      "* Device #4: Intel(R) Core(TM) i7-7500U CPU @ 2.70GHz, skipped\n",
      "\n",
      "Minimum password length supported by kernel: 4\n",
      "Maximum password length supported by kernel: 256\n",
      "\n",
      "Sorting hashes. Please be patient...Sorted hashesRemoving duplicate hashes. Please be patient...Removed duplicate hashesSorting salts. Please be patient...Sorted saltsGenerating bitmap tables...Generated bitmap tablesHashes: 1 digests; 1 unique digests, 1 unique salts\n",
      "Bitmaps: 16 bits, 65536 entries, 0x0000ffff mask, 262144 bytes, 5/13 rotates\n",
      "\n",
      "Optimizers applied:\n",
      "* Single-Hash\n",
      "* Single-Salt\n",
      "* Brute-Force\n",
      "* Slow-Hash-SIMD-LOOP\n",
      "\n",
      "Watchdog: Hardware monitoring interface not found on your system.\n",
      "Watchdog: Temperature abort trigger disabled.\n",
      "\n",
      "Initializing device kernels and memory. Please be patient...Initializing backend runtime for device #1. Please be patient...Initialized backend runtime for device #1Initializing backend runtime for device #3. Please be patient...Initialized backend runtime for device #3Host memory required for this attack: 504 MB\n",
      "\n",
      "The wordlist or mask that you are using is too small.     lease be patient...Finished self-testStarting autotune. Please be patient...Finished autotune\n",
      "This means that hashcat cannot use the full parallel power of your device(s).\n",
      "Unless you supply more work, your cracking speed will drop.\n",
      "For tips on supplying more work, see: https://hashcat.net/faq/morework\n",
      "\n",
      "Approaching final keyspace - workload adjusted.           \n",
      "\n",
      "                                                          \n",
      "Session..........: hashcat\n",
      "Status...........: Cracked\n",
      "Hash.Mode........: 22100 (BitLocker)\n",
      "Hash.Target......: $bitlocker$1$16$f64d2073dea16d4bf96c9e4622f4b08e$10...af7d6f\n",
      "Time.Started.....: Mon Mar 11 09:53:36 2024 (20 secs)\n",
      "Time.Estimated...: Mon Mar 11 09:53:56 2024 (0 secs)\n",
      "Kernel.Feature...: Pure Kernel\n",
      "Guess.Mask.......: 218546?d?d [8]\n",
      "Guess.Queue......: 1/1 (100.00%)\n",
      "Speed.#1.........:        3 H/s (77.96ms) @ Accel:4 Loops:4096 Thr:64 Vec:1\n",
      "Speed.#3.........:        1 H/s (98.54ms) @ Accel:4 Loops:4096 Thr:64 Vec:1\n",
      "Speed.#*.........:        4 H/s\n",
      "Recovered........: 1/1 (100.00%) Digests (total), 1/1 (100.00%) Digests (new)\n",
      "Progress.........: 64/100 (64.00%)\n",
      "Rejected.........: 0/64 (0.00%)\n",
      "Restore.Point....: 0/100 (0.00%)\n",
      "Restore.Sub.#1...: Salt:0 Amplifier:0-1 Iteration:1044480-1048576\n",
      "Restore.Sub.#3...: Salt:0 Amplifier:0-1 Iteration:782336-786432\n",
      "Candidate.Engine.: Device Generator\n",
      "Candidates.#1....: 21854678 -> 21854615\n",
      "Candidates.#3....: 21854602 -> 21854649\n",
      "\n",
      "Started: Mon Mar 11 09:53:06 2024\n",
      "Stopped: Mon Mar 11 09:53:57 2024\n",
      "\n"
     ]
    }
   ],
   "source": [
    "output_file = \"hash.txt\"\n",
    "hashcat_cmd = f'hashcat -m 22100 -a 3 {recovery_key[0]} --potfile-disable --remove --outfile {output_file} \"218546?d?d\"'\n",
    "process = subprocess.call(hashcat_cmd, shell=True)\n",
    "\n",
    "\n",
    "\n",
    "# Execute hashcat command using subprocess\n",
    "try:\n",
    "    output = subprocess.check_output(hashcat_cmd, shell=True)\n",
    "    print(output.decode(\"utf-8\"))\n",
    "except subprocess.CalledProcessError as e:\n",
    "    print(f\"Error executing hashcat command: {e}\")"
   ]
  }
 ],
 "metadata": {
  "kernelspec": {
   "display_name": "Racunalna_forenzika",
   "language": "python",
   "name": "python3"
  },
  "language_info": {
   "codemirror_mode": {
    "name": "ipython",
    "version": 3
   },
   "file_extension": ".py",
   "mimetype": "text/x-python",
   "name": "python",
   "nbconvert_exporter": "python",
   "pygments_lexer": "ipython3",
   "version": "3.11.2"
  }
 },
 "nbformat": 4,
 "nbformat_minor": 2
}
